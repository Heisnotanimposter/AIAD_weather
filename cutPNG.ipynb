{
 "cells": [
  {
   "cell_type": "code",
   "execution_count": null,
   "metadata": {},
   "outputs": [],
   "source": [
    "import cv2\n",
    "import numpy as np\n",
    "import os\n",
    "\n",
    "input_path = \"D:\\VSCODE\\weather_resource\\\\202101png\"\n",
    "output_path = \"D:\\VSCODE\\weather_resource\\\\resized\"\n",
    "for filename in os.listdir(input_path):\n",
    "    image_path = os.path.join(input_path,filename)\n",
    "    save_path = os.path.join(output_path,filename)\n",
    "    source = cv2.imread(image_path)\n",
    "    #cv2.imshow(\"original\", source)\n",
    "    \n",
    "    crop_img = source[520:540,496:516]#슬라이싱\n",
    "\n",
    "    cv2.imwrite(save_path, crop_img)\n",
    "    print(save_path)"
   ]
  }
 ],
 "metadata": {
  "kernelspec": {
   "display_name": "Python 3.10.6 64-bit",
   "language": "python",
   "name": "python3"
  },
  "language_info": {
   "name": "python",
   "version": "3.10.6"
  },
  "orig_nbformat": 4,
  "vscode": {
   "interpreter": {
    "hash": "6f8c7e6e15a334122b9b1d9cb489114c5544af0cb199f253b883b368ab86aa24"
   }
  }
 },
 "nbformat": 4,
 "nbformat_minor": 2
}
