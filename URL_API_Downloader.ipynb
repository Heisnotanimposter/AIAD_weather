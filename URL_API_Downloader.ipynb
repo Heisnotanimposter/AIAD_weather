{
 "cells": [
  {
   "cell_type": "markdown",
   "metadata": {},
   "source": [
    "# 기상청 OPEN URL API 서비스"
   ]
  },
  {
   "cell_type": "code",
   "execution_count": 1,
   "metadata": {},
   "outputs": [],
   "source": [
    "import requests  # to make GET request\n",
    "import re\n",
    "import calendar\n",
    "import time\n",
    "\n",
    "\n",
    "satgk2aobs = 'http://203.247.66.126:8090/url/sat_gk2a_obs_file.php?'\n",
    "ir096 = \"&ch=ir096&map=ko&authKey=\"\n",
    "authKey = [\"junhuk1113@naver.com\",\"dotoro.kim@gmail.com\",\"dspkhan@hanmail.net\",\"redcar1024@gmail.com\",\"ohsun8436@nate.com\",\"junhuk1113@gmail.com\",\"junhuk1113@daum.net\"]\n",
    "      \n",
    "def download(url,authkeycode):\n",
    "    while True:\n",
    "        \n",
    "        try:\n",
    "            print(\"Requesting url data\")\n",
    "            counter(authkeycode)\n",
    "            r = requests.get(url,timeout=2)\n",
    "            if(r.text[0]=='#'):\n",
    "                return \"file not exist\"\n",
    "            elif(r.text[0]=='<'):\n",
    "                return \"The number of requests has reached the limit\"\n",
    "            d = r.headers['content-disposition']\n",
    "        except :\n",
    "            print(\"time out, 1sec delaying..\")\n",
    "            time.sleep(1)\n",
    "        else: \n",
    "            break\n",
    "    file_name = re.findall(\"filename=\\\"(.+)\\\"\", d)[0]\n",
    "\n",
    "    with open(\"./download/\"+file_name, \"wb\") as file:   # open in binary mode\n",
    "                    # get request\n",
    "        file.write(r.content)      # write to file\n",
    "    return file_name + \" saved successfully!\"\n",
    "\n",
    "def counter(authkey):\n",
    "    f = open(\"request_Count.txt\",\"r\")\n",
    "    data=f.readline()\n",
    "    f.close()\n",
    "    data=data.split()\n",
    "    data[authkey]=str(int(data[authkey]) + 1)\n",
    "    f = open(\"request_Count.txt\",\"w\")\n",
    "    #print(data)\n",
    "    f.write(' '.join(data))\n",
    "    f.close()\n",
    "    return data\n",
    "def geturl(month,day,hour,authkeycode):\n",
    "    if month < 10:\n",
    "        month = \"0\" +str(month)\n",
    "    else: month = str(month)\n",
    "    if day < 10:\n",
    "        day = \"0\" +str(day)\n",
    "    else: day = str(day)\n",
    "    if hour < 10:\n",
    "        hour = \"0\" +str(hour)\n",
    "    else: hour = str(hour)\n",
    "    url = satgk2aobs + \"tm=2021\" +month+day+hour+\"00\"+ir096+authKey[authkeycode]\n",
    "    return url"
   ]
  },
  {
   "cell_type": "code",
   "execution_count": 3,
   "metadata": {},
   "outputs": [
    {
     "name": "stdout",
     "output_type": "stream",
     "text": [
      "http://203.247.66.126:8090/url/sat_gk2a_obs_file.php?tm=202109010000&ch=ir096&map=ko&authKey=junhuk1113@naver.com\n",
      "Requesting url data\n",
      "The number of requests has reached the limit\n",
      "http://203.247.66.126:8090/url/sat_gk2a_obs_file.php?tm=202109010000&ch=ir096&map=ko&authKey=dotoro.kim@gmail.com\n",
      "Requesting url data\n",
      "The number of requests has reached the limit\n",
      "http://203.247.66.126:8090/url/sat_gk2a_obs_file.php?tm=202109010000&ch=ir096&map=ko&authKey=dspkhan@hanmail.net\n",
      "Requesting url data\n",
      "The number of requests has reached the limit\n",
      "http://203.247.66.126:8090/url/sat_gk2a_obs_file.php?tm=202109010000&ch=ir096&map=ko&authKey=redcar1024@gmail.com\n",
      "Requesting url data\n",
      "The number of requests has reached the limit\n",
      "http://203.247.66.126:8090/url/sat_gk2a_obs_file.php?tm=202109010000&ch=ir096&map=ko&authKey=ohsun8436@nate.com\n",
      "Requesting url data\n",
      "time out, 1sec delaying..\n",
      "Requesting url data\n",
      "The number of requests has reached the limit\n",
      "http://203.247.66.126:8090/url/sat_gk2a_obs_file.php?tm=202109010000&ch=ir096&map=ko&authKey=junhuk1113@gmail.com\n",
      "Requesting url data\n",
      "The number of requests has reached the limit\n",
      "http://203.247.66.126:8090/url/sat_gk2a_obs_file.php?tm=202109010000&ch=ir096&map=ko&authKey=junhuk1113@daum.net\n",
      "Requesting url data\n",
      "The number of requests has reached the limit\n"
     ]
    },
    {
     "ename": "IndexError",
     "evalue": "list index out of range",
     "output_type": "error",
     "traceback": [
      "\u001b[1;31m---------------------------------------------------------------------------\u001b[0m",
      "\u001b[1;31mIndexError\u001b[0m                                Traceback (most recent call last)",
      "Cell \u001b[1;32mIn [3], line 8\u001b[0m\n\u001b[0;32m      6\u001b[0m hour \u001b[38;5;241m=\u001b[39m \u001b[38;5;241m0\u001b[39m\n\u001b[0;32m      7\u001b[0m \u001b[38;5;28;01mwhile\u001b[39;00m hour\u001b[38;5;241m<\u001b[39m\u001b[38;5;241m24\u001b[39m:\n\u001b[1;32m----> 8\u001b[0m     url\u001b[38;5;241m=\u001b[39m\u001b[43mgeturl\u001b[49m\u001b[43m(\u001b[49m\u001b[43mmonth\u001b[49m\u001b[43m,\u001b[49m\u001b[43mday\u001b[49m\u001b[43m,\u001b[49m\u001b[43mhour\u001b[49m\u001b[43m,\u001b[49m\u001b[43mauthkeycode\u001b[49m\u001b[43m)\u001b[49m\n\u001b[0;32m      9\u001b[0m     \u001b[38;5;28mprint\u001b[39m(url)\n\u001b[0;32m     10\u001b[0m     result\u001b[38;5;241m=\u001b[39mdownload(url,authkeycode)\n",
      "Cell \u001b[1;32mIn [1], line 56\u001b[0m, in \u001b[0;36mgeturl\u001b[1;34m(month, day, hour, authkeycode)\u001b[0m\n\u001b[0;32m     54\u001b[0m     hour \u001b[38;5;241m=\u001b[39m \u001b[38;5;124m\"\u001b[39m\u001b[38;5;124m0\u001b[39m\u001b[38;5;124m\"\u001b[39m \u001b[38;5;241m+\u001b[39m\u001b[38;5;28mstr\u001b[39m(hour)\n\u001b[0;32m     55\u001b[0m \u001b[38;5;28;01melse\u001b[39;00m: hour \u001b[38;5;241m=\u001b[39m \u001b[38;5;28mstr\u001b[39m(hour)\n\u001b[1;32m---> 56\u001b[0m url \u001b[38;5;241m=\u001b[39m satgk2aobs \u001b[38;5;241m+\u001b[39m \u001b[38;5;124m\"\u001b[39m\u001b[38;5;124mtm=2021\u001b[39m\u001b[38;5;124m\"\u001b[39m \u001b[38;5;241m+\u001b[39mmonth\u001b[38;5;241m+\u001b[39mday\u001b[38;5;241m+\u001b[39mhour\u001b[38;5;241m+\u001b[39m\u001b[38;5;124m\"\u001b[39m\u001b[38;5;124m00\u001b[39m\u001b[38;5;124m\"\u001b[39m\u001b[38;5;241m+\u001b[39mir096\u001b[38;5;241m+\u001b[39m\u001b[43mauthKey\u001b[49m\u001b[43m[\u001b[49m\u001b[43mauthkeycode\u001b[49m\u001b[43m]\u001b[49m\n\u001b[0;32m     57\u001b[0m \u001b[38;5;28;01mreturn\u001b[39;00m url\n",
      "\u001b[1;31mIndexError\u001b[0m: list index out of range"
     ]
    }
   ],
   "source": [
    "authkeycode =0\n",
    "\n",
    "for month in range(9,12+1):\n",
    "    monrange = calendar.monthrange(2021,month)\n",
    "    for day in range(1,monrange[1]+1):\n",
    "        hour = 0\n",
    "        while hour<24:\n",
    "            url=geturl(month,day,hour,authkeycode)\n",
    "            print(url)\n",
    "            result=download(url,authkeycode)\n",
    "            print(result)\n",
    "            if result==\"The number of requests has reached the limit\":\n",
    "                authkeycode += 1\n",
    "                hour -= 1\n",
    "            #seldown(url)\n",
    "            time.sleep(1)\n",
    "            hour += 1\n",
    "\n"
   ]
  },
  {
   "cell_type": "markdown",
   "metadata": {},
   "source": [
    "---"
   ]
  }
 ],
 "metadata": {
  "kernelspec": {
   "display_name": "Python 3.10.6 64-bit",
   "language": "python",
   "name": "python3"
  },
  "language_info": {
   "codemirror_mode": {
    "name": "ipython",
    "version": 3
   },
   "file_extension": ".py",
   "mimetype": "text/x-python",
   "name": "python",
   "nbconvert_exporter": "python",
   "pygments_lexer": "ipython3",
   "version": "3.10.6"
  },
  "orig_nbformat": 4,
  "vscode": {
   "interpreter": {
    "hash": "6f8c7e6e15a334122b9b1d9cb489114c5544af0cb199f253b883b368ab86aa24"
   }
  }
 },
 "nbformat": 4,
 "nbformat_minor": 2
}
