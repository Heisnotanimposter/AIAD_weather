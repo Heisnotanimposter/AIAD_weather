{
 "cells": [
  {
   "cell_type": "code",
   "execution_count": 2,
   "metadata": {},
   "outputs": [],
   "source": [
    "import netCDF4\n",
    "import numpy as np\n",
    "\n",
    "input_ncfile_path = 'D:\\VSCODE\\weather_resource\\gk2a_ir096_2021\\gk2a_ami_le1b_ir096_ko020lc_202101010000.nc' \n",
    "CT_path='./conversion_table/'\n",
    "output_txt_path='sample_output.txt'\n",
    "output_npy_path='sample_image_pixel_data.npy'\n",
    "ncfile = netCDF4.Dataset(input_ncfile_path,'r',format='netcdf4')\n",
    "ipixel=ncfile.variables['image_pixel_values']\n",
    "ipixel_process = ipixel[:]\n"
   ]
  },
  {
   "cell_type": "code",
   "execution_count": 3,
   "metadata": {},
   "outputs": [],
   "source": [
    "channel=ipixel.getncattr('channel_name')\n",
    "if ((channel == 'VI004') or (channel == 'NR016')\n",
    "    or (channel == 'VI005')):\n",
    "        mask = 0b0000011111111111 #11bit mask\n",
    "elif ((channel == 'VI006')\n",
    "    or (channel == 'NR013') or (channel == 'WV063')):\n",
    "        mask = 0b0000111111111111 #12bit mask\n",
    "elif (channel == 'SW038'):\n",
    "    mask = 0b0011111111111111 #14bit mask\n",
    "else:\n",
    "    mask = 0b0001111111111111 #13bit mask\n",
    "    ipixel_process_masked=np.bitwise_and(ipixel_process,mask)"
   ]
  },
  {
   "cell_type": "code",
   "execution_count": 4,
   "metadata": {},
   "outputs": [
    {
     "data": {
      "text/plain": [
       "'IR096'"
      ]
     },
     "execution_count": 4,
     "metadata": {},
     "output_type": "execute_result"
    }
   ],
   "source": [
    "channel"
   ]
  },
  {
   "cell_type": "code",
   "execution_count": 26,
   "metadata": {},
   "outputs": [],
   "source": [
    "AL_postfix='_con_alb.txt'\n",
    "BT_postfix='_con_bt.txt'\n",
    "if (channel[0:2] == 'VI') or (channel[0:2] == 'NR'):\n",
    "    conversion_table=np.loadtxt(\n",
    "    CT_path+channel+AL_postfix,'float64')\n",
    "else:\n",
    "    conversion_table=np.loadtxt(\n",
    "        CT_path+channel+BT_postfix,'float64')\n",
    "ipixel_process_masked_converted=conversion_table[\n",
    "    ipixel_process_masked]"
   ]
  },
  {
   "cell_type": "code",
   "execution_count": 6,
   "metadata": {},
   "outputs": [
    {
     "data": {
      "text/plain": [
       "(900, 900)"
      ]
     },
     "execution_count": 6,
     "metadata": {},
     "output_type": "execute_result"
    }
   ],
   "source": [
    "ipixel.shape"
   ]
  },
  {
   "cell_type": "code",
   "execution_count": 7,
   "metadata": {},
   "outputs": [
    {
     "data": {
      "text/plain": [
       "(900, 900)"
      ]
     },
     "execution_count": 7,
     "metadata": {},
     "output_type": "execute_result"
    }
   ],
   "source": [
    "ipixel_process.shape"
   ]
  },
  {
   "cell_type": "code",
   "execution_count": 8,
   "metadata": {},
   "outputs": [
    {
     "data": {
      "text/plain": [
       "6977"
      ]
     },
     "execution_count": 8,
     "metadata": {},
     "output_type": "execute_result"
    }
   ],
   "source": [
    "ipixel_process[0,0]"
   ]
  },
  {
   "cell_type": "code",
   "execution_count": 9,
   "metadata": {},
   "outputs": [
    {
     "data": {
      "text/plain": [
       "231.5546"
      ]
     },
     "execution_count": 9,
     "metadata": {},
     "output_type": "execute_result"
    }
   ],
   "source": [
    "conversion_table[6977]"
   ]
  },
  {
   "cell_type": "code",
   "execution_count": 10,
   "metadata": {},
   "outputs": [
    {
     "data": {
      "text/plain": [
       "masked_array(\n",
       "  data=[[6977, 6968, 6954, ..., 6655, 6654, 6653],\n",
       "        [6977, 6968, 6951, ..., 6654, 6654, 6656],\n",
       "        [6981, 6971, 6970, ..., 6654, 6654, 6656],\n",
       "        ...,\n",
       "        [6220, 6208, 6202, ..., 5425, 5410, 5436],\n",
       "        [6197, 6208, 6202, ..., 5472, 5481, 5436],\n",
       "        [6197, 6198, 6223, ..., 5398, 5425, 5453]],\n",
       "  mask=False,\n",
       "  fill_value=999999,\n",
       "  dtype=uint16)"
      ]
     },
     "execution_count": 10,
     "metadata": {},
     "output_type": "execute_result"
    }
   ],
   "source": [
    "ipixel_process"
   ]
  },
  {
   "cell_type": "code",
   "execution_count": 23,
   "metadata": {},
   "outputs": [
    {
     "data": {
      "text/plain": [
       "array([[231.5546, 231.8281, 232.2505, ..., 240.5578, 240.5836, 240.6094],\n",
       "       [231.5546, 231.8281, 232.3406, ..., 240.5836, 240.5836, 240.532 ],\n",
       "       [231.4327, 231.7371, 231.7674, ..., 240.5836, 240.5836, 240.532 ],\n",
       "       ...,\n",
       "       [250.8244, 251.0844, 251.2141, ..., 266.1591, 266.4182, 265.9685],\n",
       "       [251.3219, 251.0844, 251.2141, ..., 265.3412, 265.1835, 265.9685],\n",
       "       [251.3219, 251.3003, 250.7592, ..., 266.6248, 266.1591, 265.6729]])"
      ]
     },
     "execution_count": 23,
     "metadata": {},
     "output_type": "execute_result"
    }
   ],
   "source": [
    "ipixel_process_masked_converted"
   ]
  },
  {
   "cell_type": "code",
   "execution_count": 27,
   "metadata": {},
   "outputs": [],
   "source": [
    "for i in range(900):\n",
    "    for j in range(900):\n",
    "        ipixel_process_masked_converted[i,j]=8191-ipixel_process_masked_converted[i,j]\n",
    "        ipixel_process_masked_converted[i,j]/=8191\n",
    "        ipixel_process_masked_converted[i,j]*=255"
   ]
  },
  {
   "cell_type": "code",
   "execution_count": 28,
   "metadata": {},
   "outputs": [
    {
     "data": {
      "text/plain": [
       "array([[247.79130472, 247.7827902 , 247.76964015, ..., 247.51101953,\n",
       "        247.51021634, 247.50941314],\n",
       "       [247.79130472, 247.7827902 , 247.76683518, ..., 247.51021634,\n",
       "        247.51021634, 247.51182273],\n",
       "       [247.79509968, 247.78562318, 247.78467989, ..., 247.51021634,\n",
       "        247.51021634, 247.51182273],\n",
       "       ...,\n",
       "       [247.19140251, 247.18330827, 247.17927048, ..., 246.71400678,\n",
       "        246.70594054, 246.71994048],\n",
       "       [247.17591448, 247.18330827, 247.17927048, ..., 246.73946942,\n",
       "        246.74437889, 246.71994048],\n",
       "       [247.17591448, 247.17658692, 247.1934323 , ..., 246.69950873,\n",
       "        246.71400678, 246.72914302]])"
      ]
     },
     "execution_count": 28,
     "metadata": {},
     "output_type": "execute_result"
    }
   ],
   "source": [
    "ipixel_process_masked_converted"
   ]
  },
  {
   "cell_type": "code",
   "execution_count": 29,
   "metadata": {},
   "outputs": [
    {
     "name": "stderr",
     "output_type": "stream",
     "text": [
      "Lossy conversion from float64 to uint8. Range [246.6845717250641, 247.90937492369676]. Convert image to uint8 prior to saving to suppress this warning.\n"
     ]
    }
   ],
   "source": [
    "import imageio\n",
    "\n",
    "imageio.imsave(\"ddd.png\", ipixel_process_masked_converted)"
   ]
  }
 ],
 "metadata": {
  "kernelspec": {
   "display_name": "Python 3.10.6 64-bit",
   "language": "python",
   "name": "python3"
  },
  "language_info": {
   "codemirror_mode": {
    "name": "ipython",
    "version": 3
   },
   "file_extension": ".py",
   "mimetype": "text/x-python",
   "name": "python",
   "nbconvert_exporter": "python",
   "pygments_lexer": "ipython3",
   "version": "3.10.6"
  },
  "orig_nbformat": 4,
  "vscode": {
   "interpreter": {
    "hash": "6f8c7e6e15a334122b9b1d9cb489114c5544af0cb199f253b883b368ab86aa24"
   }
  }
 },
 "nbformat": 4,
 "nbformat_minor": 2
}
