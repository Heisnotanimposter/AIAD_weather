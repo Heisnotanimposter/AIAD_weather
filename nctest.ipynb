{
 "cells": [
  {
   "cell_type": "code",
   "execution_count": 20,
   "metadata": {},
   "outputs": [],
   "source": [
    "import netCDF4\n",
    "import numpy as np\n",
    "\n",
    "input_ncfile_path = 'gk2a_ir096_2021/gk2a_ami_le1b_ir096_ko020lc_202101010000.nc' \n",
    "CT_path='./conversion_table/'\n",
    "output_txt_path='sample_output.txt'\n",
    "output_npy_path='sample_image_pixel_data.npy'\n",
    "ncfile = netCDF4.Dataset('gk2a_ir096_202201\\gk2a_ami_le1b_ir096_ko020lc_202201010000.nc','r',format='netcdf4')\n",
    "ipixel=ncfile.variables['image_pixel_values']\n",
    "ipixel_process = ipixel[:]\n"
   ]
  },
  {
   "cell_type": "code",
   "execution_count": 21,
   "metadata": {},
   "outputs": [],
   "source": [
    "channel=ipixel.getncattr('channel_name')\n",
    "if ((channel == 'VI004') or (channel == 'NR016')\n",
    "    or (channel == 'VI005')):\n",
    "        mask = 0b0000011111111111 #11bit mask\n",
    "elif ((channel == 'VI006')\n",
    "    or (channel == 'NR013') or (channel == 'WV063')):\n",
    "        mask = 0b0000111111111111 #12bit mask\n",
    "elif (channel == 'SW038'):\n",
    "    mask = 0b0011111111111111 #14bit mask\n",
    "else:\n",
    "    mask = 0b0001111111111111 #13bit mask\n",
    "    ipixel_process_masked=np.bitwise_and(ipixel_process,mask)"
   ]
  },
  {
   "cell_type": "code",
   "execution_count": 22,
   "metadata": {},
   "outputs": [
    {
     "data": {
      "text/plain": [
       "'IR096'"
      ]
     },
     "execution_count": 22,
     "metadata": {},
     "output_type": "execute_result"
    }
   ],
   "source": [
    "channel"
   ]
  },
  {
   "cell_type": "code",
   "execution_count": 3,
   "metadata": {},
   "outputs": [
    {
     "ename": "NameError",
     "evalue": "name 'cal_table_path' is not defined",
     "output_type": "error",
     "traceback": [
      "\u001b[1;31m---------------------------------------------------------------------------\u001b[0m",
      "\u001b[1;31mNameError\u001b[0m                                 Traceback (most recent call last)",
      "Cell \u001b[1;32mIn [3], line 5\u001b[0m\n\u001b[0;32m      2\u001b[0m BT_postfix\u001b[38;5;241m=\u001b[39m\u001b[38;5;124m'\u001b[39m\u001b[38;5;124m_con_bt.txt\u001b[39m\u001b[38;5;124m'\u001b[39m\n\u001b[0;32m      3\u001b[0m \u001b[38;5;28;01mif\u001b[39;00m (channel[\u001b[38;5;241m0\u001b[39m:\u001b[38;5;241m2\u001b[39m] \u001b[38;5;241m==\u001b[39m \u001b[38;5;124m'\u001b[39m\u001b[38;5;124mVI\u001b[39m\u001b[38;5;124m'\u001b[39m) \u001b[38;5;129;01mor\u001b[39;00m (channel[\u001b[38;5;241m0\u001b[39m:\u001b[38;5;241m2\u001b[39m] \u001b[38;5;241m==\u001b[39m \u001b[38;5;124m'\u001b[39m\u001b[38;5;124mNR\u001b[39m\u001b[38;5;124m'\u001b[39m):\n\u001b[0;32m      4\u001b[0m     conversion_table\u001b[38;5;241m=\u001b[39mnumpy\u001b[38;5;241m.\u001b[39mloadtxt(\n\u001b[1;32m----> 5\u001b[0m     \u001b[43mcal_table_path\u001b[49m\u001b[38;5;241m+\u001b[39mchannel\u001b[38;5;241m+\u001b[39mAL_postfix,\u001b[38;5;124m'\u001b[39m\u001b[38;5;124mfloat64\u001b[39m\u001b[38;5;124m'\u001b[39m)\n\u001b[0;32m      6\u001b[0m \u001b[38;5;28;01melse\u001b[39;00m:\n\u001b[0;32m      7\u001b[0m     conversion_table\u001b[38;5;241m=\u001b[39mnumpy\u001b[38;5;241m.\u001b[39mloadtxt(\n\u001b[0;32m      8\u001b[0m         CT_path\u001b[38;5;241m+\u001b[39mchannel\u001b[38;5;241m+\u001b[39mBT_postfix,\u001b[38;5;124m'\u001b[39m\u001b[38;5;124mfloat64\u001b[39m\u001b[38;5;124m'\u001b[39m)\n",
      "\u001b[1;31mNameError\u001b[0m: name 'cal_table_path' is not defined"
     ]
    }
   ],
   "source": [
    "AL_postfix='_con_alb.txt'\n",
    "BT_postfix='_con_bt.txt'\n",
    "if (channel[0:2] == 'VI') or (channel[0:2] == 'NR'):\n",
    "    conversion_table=np.loadtxt(\n",
    "    cal_table_path+channel+AL_postfix,'float64')\n",
    "else:\n",
    "    conversion_table=np.loadtxt(\n",
    "        CT_path+channel+BT_postfix,'float64')\n",
    "ipixel_process_masked_converted=conversion_table[\n",
    "    ipixel_process_masked]"
   ]
  },
  {
   "cell_type": "code",
   "execution_count": 23,
   "metadata": {},
   "outputs": [
    {
     "data": {
      "text/plain": [
       "masked_array(\n",
       "  data=[[6923, 6926, 6904, ..., 6701, 6706, 6723],\n",
       "        [6923, 6926, 6907, ..., 6708, 6718, 6732],\n",
       "        [6928, 6931, 6930, ..., 6708, 6718, 6732],\n",
       "        ...,\n",
       "        [6094, 6117, 6139, ..., 5450, 5467, 5489],\n",
       "        [6185, 6117, 6139, ..., 5503, 5469, 5489],\n",
       "        [6185, 6189, 6195, ..., 5533, 5520, 5490]],\n",
       "  mask=False,\n",
       "  fill_value=999999,\n",
       "  dtype=uint16)"
      ]
     },
     "execution_count": 23,
     "metadata": {},
     "output_type": "execute_result"
    }
   ],
   "source": [
    "ipixel_process_masked"
   ]
  },
  {
   "cell_type": "code",
   "execution_count": 24,
   "metadata": {},
   "outputs": [
    {
     "name": "stdout",
     "output_type": "stream",
     "text": [
      "[[6923 6926 6904 ... 6701 6706 6723]\n",
      " [6923 6926 6907 ... 6708 6718 6732]\n",
      " [6928 6931 6930 ... 6708 6718 6732]\n",
      " ...\n",
      " [6094 6117 6139 ... 5450 5467 5489]\n",
      " [6185 6117 6139 ... 5503 5469 5489]\n",
      " [6185 6189 6195 ... 5533 5520 5490]]\n"
     ]
    }
   ],
   "source": [
    "print(ipixel_process)"
   ]
  },
  {
   "cell_type": "code",
   "execution_count": 11,
   "metadata": {},
   "outputs": [],
   "source": [
    "data2 = np.load('dataset/train/subset_010462_01.npy')"
   ]
  },
  {
   "cell_type": "code",
   "execution_count": 13,
   "metadata": {},
   "outputs": [
    {
     "data": {
      "text/plain": [
       "(40, 40, 15)"
      ]
     },
     "execution_count": 13,
     "metadata": {},
     "output_type": "execute_result"
    }
   ],
   "source": [
    "data2.shape"
   ]
  },
  {
   "cell_type": "code",
   "execution_count": 14,
   "metadata": {},
   "outputs": [
    {
     "data": {
      "text/plain": [
       "array([[[174.67710876,  97.50983429, 203.54122925, ..., 159.64146423,\n",
       "           5.57419205,   0.        ],\n",
       "        [174.91165161,  96.68958282, 203.99794006, ..., 159.64146423,\n",
       "           5.57419205,   0.        ],\n",
       "        [173.59732056,  97.98129272, 204.01615906, ..., 159.64146423,\n",
       "           5.57419205,   0.        ],\n",
       "        ...,\n",
       "        [173.03848267,  95.99974823, 199.57099915, ..., 161.20739746,\n",
       "           4.79637623,   0.        ],\n",
       "        [173.87191772,  96.29589844, 199.39268494, ..., 161.26597595,\n",
       "           4.81756973,   0.        ],\n",
       "        [173.28308105,  95.21756744, 199.53744507, ..., 161.30795288,\n",
       "           4.79751778,   0.        ]],\n",
       "\n",
       "       [[173.48847961,  97.38205719, 201.76010132, ..., 159.69039917,\n",
       "           5.69830656,   0.        ],\n",
       "        [174.80511475,  96.91531372, 201.47776794, ..., 159.69039917,\n",
       "           5.69830656,   0.        ],\n",
       "        [174.28555298,  97.36418152, 201.19615173, ..., 159.67408752,\n",
       "           5.65690517,   0.        ],\n",
       "        ...,\n",
       "        [173.30397034,  95.4092865 , 198.87278748, ..., 161.25663757,\n",
       "           4.92040443,   0.        ],\n",
       "        [174.55892944,  96.13719177, 198.48544312, ..., 161.29879761,\n",
       "           4.90022755,   0.        ],\n",
       "        [173.17507935,  95.8762207 , 199.32562256, ..., 161.35722351,\n",
       "           4.92152405,   0.        ]],\n",
       "\n",
       "       [[173.30059814,  96.52092743, 200.40124512, ..., 159.73937988,\n",
       "           5.82243443,   0.        ],\n",
       "        [172.76882935,  95.7793045 , 199.97979736, ..., 159.72303772,\n",
       "           5.78103924,   0.        ],\n",
       "        [173.06756592,  96.4550705 , 200.29844666, ..., 159.72303772,\n",
       "           5.78103924,   0.        ],\n",
       "        ...,\n",
       "        [173.05702209,  96.68764496, 198.36357117, ..., 161.3059082 ,\n",
       "           5.04440117,   0.        ],\n",
       "        [173.15103149,  96.96044159, 199.20306396, ..., 161.34806824,\n",
       "           5.02421999,   0.        ],\n",
       "        [173.22387695,  95.42175293, 198.44450378, ..., 161.39006042,\n",
       "           5.00416183,   0.        ]],\n",
       "\n",
       "       ...,\n",
       "\n",
       "       [[174.224823  ,  98.59833527, 195.92526245, ..., 161.26991272,\n",
       "           9.66792679,   0.        ],\n",
       "        [174.67131042,  97.72544098, 196.03825378, ..., 161.26991272,\n",
       "           9.66792679,   0.        ],\n",
       "        [174.41496277,  98.45452881, 193.83345032, ..., 161.26991272,\n",
       "           9.66792679,   0.        ],\n",
       "        ...,\n",
       "        [175.40817261,  99.82849884, 201.52201843, ..., 162.84819031,\n",
       "           8.88366795,   0.        ],\n",
       "        [175.5020752 , 100.17801666, 202.03730774, ..., 162.9074707 ,\n",
       "           8.90450191,   0.        ],\n",
       "        [175.14756775, 100.16860962, 202.04411316, ..., 162.94973755,\n",
       "           8.88423252,   0.        ]],\n",
       "\n",
       "       [[174.01556396,  98.30325317, 196.08816528, ..., 161.31982422,\n",
       "           9.79188919,   0.        ],\n",
       "        [174.43560791,  97.45594025, 196.47393799, ..., 161.30314636,\n",
       "           9.75056458,   0.        ],\n",
       "        [174.1020813 ,  97.44571686, 194.80210876, ..., 161.30314636,\n",
       "           9.75056458,   0.        ],\n",
       "        ...,\n",
       "        [175.38191223, 100.29767609, 203.89286804, ..., 162.89857483,\n",
       "           9.00732136,   0.        ],\n",
       "        [176.35050964,  99.85421753, 203.42108154, ..., 162.94102478,\n",
       "           8.98692513,   0.        ],\n",
       "        [174.75473022,  99.44044495, 200.63557434, ..., 162.98330688,\n",
       "           8.96665001,   0.        ]],\n",
       "\n",
       "       [[174.4074707 ,  97.74031067, 195.6942749 , ..., 161.35307312,\n",
       "           9.87451553,   0.        ],\n",
       "        [174.10754395,  98.98600769, 195.98605347, ..., 161.35307312,\n",
       "           9.87451553,   0.        ],\n",
       "        [175.17825317,  97.92626953, 195.21708679, ..., 161.35307312,\n",
       "           9.87451553,   0.        ],\n",
       "        ...,\n",
       "        [175.51072693,  99.27643585, 202.92776489, ..., 162.94895935,\n",
       "           9.13098145,   0.        ],\n",
       "        [174.91642761,  99.93392181, 201.29432678, ..., 162.99143982,\n",
       "           9.11057377,   0.        ],\n",
       "        [175.48963928,  99.10588837, 200.98252869, ..., 163.03372192,\n",
       "           9.09028625,   0.        ]]])"
      ]
     },
     "execution_count": 14,
     "metadata": {},
     "output_type": "execute_result"
    }
   ],
   "source": [
    "data2"
   ]
  },
  {
   "cell_type": "code",
   "execution_count": 7,
   "metadata": {},
   "outputs": [
    {
     "data": {
      "text/plain": [
       "(1578, 1276)"
      ]
     },
     "execution_count": 7,
     "metadata": {},
     "output_type": "execute_result"
    }
   ],
   "source": [
    "ipixel_process.shape"
   ]
  },
  {
   "cell_type": "code",
   "execution_count": null,
   "metadata": {},
   "outputs": [],
   "source": []
  }
 ],
 "metadata": {
  "kernelspec": {
   "display_name": "Python 3.10.6 64-bit",
   "language": "python",
   "name": "python3"
  },
  "language_info": {
   "codemirror_mode": {
    "name": "ipython",
    "version": 3
   },
   "file_extension": ".py",
   "mimetype": "text/x-python",
   "name": "python",
   "nbconvert_exporter": "python",
   "pygments_lexer": "ipython3",
   "version": "3.10.6"
  },
  "orig_nbformat": 4,
  "vscode": {
   "interpreter": {
    "hash": "6f8c7e6e15a334122b9b1d9cb489114c5544af0cb199f253b883b368ab86aa24"
   }
  }
 },
 "nbformat": 4,
 "nbformat_minor": 2
}
