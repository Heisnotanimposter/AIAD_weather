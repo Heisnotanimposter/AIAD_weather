{
 "cells": [
  {
   "cell_type": "code",
   "execution_count": 1,
   "metadata": {},
   "outputs": [
    {
     "data": {
      "text/plain": [
       "(24, 31, 20, 20)"
      ]
     },
     "execution_count": 1,
     "metadata": {},
     "output_type": "execute_result"
    }
   ],
   "source": [
    "import numpy as np\n",
    "import os\n",
    "from PIL import Image\n",
    "input_path = \"D:\\VSCODE\\weather_resource\\\\resized\"\n",
    "training_data=[]\n",
    "for filename in os.listdir(input_path):\n",
    "    image_path = os.path.join(input_path,filename)\n",
    "    image = Image.open(image_path).convert('L')\n",
    "    training_data.append(np.asarray(image))\n",
    "training_data = np.reshape(training_data,(24,31,20,20))\n",
    "training_data.shape\n"
   ]
  },
  {
   "cell_type": "code",
   "execution_count": 2,
   "metadata": {},
   "outputs": [
    {
     "data": {
      "text/plain": [
       "744"
      ]
     },
     "execution_count": 2,
     "metadata": {},
     "output_type": "execute_result"
    }
   ],
   "source": [
    "len(os.listdir(input_path))"
   ]
  },
  {
   "cell_type": "code",
   "execution_count": 4,
   "metadata": {},
   "outputs": [],
   "source": [
    "with open('202101_resized.npy', 'wb') as f:\n",
    "    np.save(f, training_data)"
   ]
  }
 ],
 "metadata": {
  "kernelspec": {
   "display_name": "Python 3.10.6 64-bit",
   "language": "python",
   "name": "python3"
  },
  "language_info": {
   "codemirror_mode": {
    "name": "ipython",
    "version": 3
   },
   "file_extension": ".py",
   "mimetype": "text/x-python",
   "name": "python",
   "nbconvert_exporter": "python",
   "pygments_lexer": "ipython3",
   "version": "3.10.6"
  },
  "orig_nbformat": 4,
  "vscode": {
   "interpreter": {
    "hash": "6f8c7e6e15a334122b9b1d9cb489114c5544af0cb199f253b883b368ab86aa24"
   }
  }
 },
 "nbformat": 4,
 "nbformat_minor": 2
}
